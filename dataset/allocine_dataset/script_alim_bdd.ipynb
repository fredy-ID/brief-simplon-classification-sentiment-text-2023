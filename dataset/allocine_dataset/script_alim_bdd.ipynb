{
 "cells": [
  {
   "cell_type": "markdown",
   "metadata": {},
   "source": [
    "### Utilisation du fichier pickle"
   ]
  },
  {
   "cell_type": "code",
   "execution_count": null,
   "metadata": {},
   "outputs": [],
   "source": [
    "import pickle\n",
    "import pandas as pd\n",
    "import re\n",
    "\n",
    "with open('pickle/allocine_1.pickle', 'rb') as file:\n",
    "    data = pickle.load(file)"
   ]
  },
  {
   "cell_type": "markdown",
   "metadata": {},
   "source": [
    "### Connection bdd"
   ]
  },
  {
   "cell_type": "code",
   "execution_count": null,
   "metadata": {},
   "outputs": [],
   "source": [
    "import psycopg2\n",
    "from dotenv import load_dotenv\n",
    "load_dotenv('.config')\n",
    "import os\n",
    "\n",
    "conn_mydb = psycopg2.connect(\n",
    "    host = os.getenv('DB_HOST'),\n",
    "    port = os.getenv('DB_PORT'),\n",
    "    database = os.getenv('DB_NAME'),\n",
    "    user = os.getenv('DB_USER'),\n",
    "    password = os.getenv('DB_PASSWORD')\n",
    ")\n",
    "\n",
    "cur = conn_mydb.cursor()"
   ]
  },
  {
   "cell_type": "markdown",
   "metadata": {},
   "source": [
    "### Ajout en bdd"
   ]
  },
  {
   "cell_type": "code",
   "execution_count": null,
   "metadata": {},
   "outputs": [],
   "source": [
    "films_titles = [('Forrest Gump', '10568'), ('La Liste de Schindler', '9393'), ('La Ligne verte', '22779'), ('12 hommes en colère', '4063'), ('Le Parrain', '1628'), ('Les Evadés', '11736'), ('Le Seigneur des anneaux : le retour du roi', '39187'), ('Le Roi Lion', '10862'), (\"Vol au-dessus d'un nid de coucou\", '2072'), ('The Dark Knight, Le Chevalier Noir', '115362'), (\"Il était une fois dans l'Ouest\", '2021'), ('Pulp Fiction', '10126'), ('Le Bon, la brute et le truand', '19395'), ('Il était une fois en Amérique', '1941'), ('Interstellar', '114782'), ('Gladiator', '24944'), ('Django Unchained', '190918'), (\"Le Seigneur des anneaux : la communauté de l'anneau\", '27070'), ('Le Seigneur des anneaux : les deux tours', '39186'), ('Gran Torino', '135063')]\n",
    "# data film\n",
    "sql_add_film = 'INSERT INTO film (title, reference) VALUES (%s, %s) ON CONFLICT (reference) DO NOTHING;'\n",
    "\n",
    "# data spectator_critics\n",
    "# Faire une boucle pour ajouter chaque valeur \n",
    "sql_add_spec_critics = ' INSERT INTO spectator_critics (text, stars, publication_date, id_film) VALUES (%s, %s, %s, %s);'\n",
    "\n",
    "sql_fk_film = 'SELECT id_film FROM film WHERE reference = %s'\n",
    "        \n",
    "for i in films_titles:\n",
    "    title = i[0]\n",
    "    id_film = int(i[1])\n",
    "    cur.execute(sql_add_film, (title, id_film))\n",
    "    conn_mydb.commit()\n",
    "\n",
    "print('tout les film add')\n",
    "\n",
    "selected_columns = data[['rating', 'review', 'date','film-url']]\n",
    "pattern = r'film/fichefilm-(\\d+)'\n",
    "for index, row in selected_columns.iterrows():\n",
    "    rating = row['rating']\n",
    "    review = row['review']\n",
    "    date = row['date']\n",
    "    url = row['film-url']\n",
    "    match = re.search(pattern, url)\n",
    "    if match:\n",
    "        fk_film = match.group(1)\n",
    "\n",
    "    cur.execute(sql_fk_film,(fk_film,))\n",
    "    fk_film = cur.fetchone()[0]\n",
    "\n",
    "    cur.execute(sql_add_spec_critics, (review, rating, date, int(fk_film)))\n",
    "    conn_mydb.commit()\n",
    "    \n",
    "print('tout les com add')\n",
    "\n",
    "\n",
    "# cur.execute('INSERT INTO film (title, reference) VALUES(%s, %s)', ('test', 1))\n",
    "conn_mydb.commit()\n",
    "# cur.close()\n",
    "# conn_mydb.close()"
   ]
  }
 ],
 "metadata": {
  "kernelspec": {
   "display_name": ".env",
   "language": "python",
   "name": "python3"
  },
  "language_info": {
   "name": "python",
   "version": "3.10.7"
  }
 },
 "nbformat": 4,
 "nbformat_minor": 2
}
